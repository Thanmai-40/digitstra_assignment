{
 "cells": [
  {
   "cell_type": "code",
   "execution_count": 444,
   "id": "8cab7de0-8d92-4019-9aa2-3fdb5e5caecc",
   "metadata": {},
   "outputs": [],
   "source": [
    "import requests\n",
    "from bs4 import BeautifulSoup\n",
    "import pandas as pd\n",
    "import matplotlib.pyplot as plt\n",
    "import seaborn as sns"
   ]
  },
  {
   "cell_type": "code",
   "execution_count": 151,
   "id": "c98e467a-ce97-4bba-83ed-aad4c322342a",
   "metadata": {},
   "outputs": [],
   "source": [
    "bumrah_url = \"https://www.espncricinfo.com/cricketers/jasprit-bumrah-625383\"\n",
    "shami_url = \"https://www.espncricinfo.com/cricketers/mohammed-shami-481896\""
   ]
  },
  {
   "cell_type": "code",
   "execution_count": 139,
   "id": "0714a678-8e93-4848-b992-76c049a52e57",
   "metadata": {},
   "outputs": [],
   "source": [
    "def scrape_overall_bowling_stats(player_url):\n",
    "    headers = {'User-Agent': 'Mozilla/5.0'}\n",
    "    response = requests.get(player_url, headers=headers)\n",
    "    \n",
    "    if response.status_code != 200:\n",
    "        return f\"Failed to fetch data for {bumrah_url}\"\n",
    "    \n",
    "    soup = BeautifulSoup(response.content, \"html.parser\")\n",
    "    \n",
    "    div = soup.find(\"div\", {\"class\": \"ds-overflow-x-auto ds-scrollbar-hide\"})\n",
    "    \n",
    "    table = div.find(\"table\", {\"class\": \"ds-w-full ds-table ds-table-md ds-table-bordered ds-border-collapse ds-border ds-border-line ds-table-auto ds-overflow-scroll\"})\n",
    "    \n",
    "    headers = [th.text.strip() for th in table.find_all(\"th\")]\n",
    "    \n",
    "    data = []\n",
    "    for row in table.find_all(\"tr\")[1:]:\n",
    "        cols = row.find_all(\"td\")\n",
    "        data.append([col.text.strip() for col in cols])\n",
    "    \n",
    "    df = pd.DataFrame(data, columns=headers)\n",
    "    \n",
    "    df = df[df['Format'].isin(['T20Is', 'ODIs'])]\n",
    "\n",
    "    return df"
   ]
  },
  {
   "cell_type": "code",
   "execution_count": 333,
   "id": "e6d31606-1630-4727-84c8-3193aa80deba",
   "metadata": {},
   "outputs": [],
   "source": [
    "bumrah_overall_stats = scrape_overall_bowling_stats(bumrah_url)\n",
    "shami_overall_stats = scrape_overall_bowling_stats(shami_url)"
   ]
  },
  {
   "cell_type": "code",
   "execution_count": 335,
   "id": "0fd86d28-f27a-4a26-a601-86873a588fb0",
   "metadata": {},
   "outputs": [],
   "source": [
    "def extract_wickets_runs(value):\n",
    "    wickets, runs = value.split('/')\n",
    "    return int(wickets), int(runs)\n",
    "\n",
    "bumrah_overall_stats['BBI_Wickets'], bumrah_overall_stats['BBI_Runs'] = zip(*bumrah_overall_stats['BBI'].apply(extract_wickets_runs))\n",
    "shami_overall_stats['BBM_Wickets'], shami_overall_stats['BBM_Runs'] = zip(*shami_overall_stats['BBM'].apply(extract_wickets_runs))\n",
    "\n",
    "bumrah_overall_stats.drop(columns=['BBI', 'BBM'], inplace=True)\n",
    "shami_overall_stats.drop(columns=['BBI', 'BBM'], inplace=True)"
   ]
  },
  {
   "cell_type": "code",
   "execution_count": 361,
   "id": "93f7169e-f1a2-4f23-ad5d-fa0ba2f5720f",
   "metadata": {},
   "outputs": [],
   "source": [
    "merged_df = pd.merge(bumrah_overall_stats, shami_overall_stats, on='Format', suffixes=('_Bumrah', '_Shami'))\n",
    "\n",
    "merged_df.set_index('Format', inplace=True)"
   ]
  },
  {
   "cell_type": "code",
   "execution_count": 391,
   "id": "e255b897-f9c1-430e-ad90-b2fb293c4468",
   "metadata": {
    "scrolled": true
   },
   "outputs": [
    {
     "data": {
      "text/html": [
       "<div>\n",
       "<style scoped>\n",
       "    .dataframe tbody tr th:only-of-type {\n",
       "        vertical-align: middle;\n",
       "    }\n",
       "\n",
       "    .dataframe tbody tr th {\n",
       "        vertical-align: top;\n",
       "    }\n",
       "\n",
       "    .dataframe thead th {\n",
       "        text-align: right;\n",
       "    }\n",
       "</style>\n",
       "<table border=\"1\" class=\"dataframe\">\n",
       "  <thead>\n",
       "    <tr style=\"text-align: right;\">\n",
       "      <th></th>\n",
       "      <th>Format</th>\n",
       "      <th>Mat_Bumrah</th>\n",
       "      <th>Inns_Bumrah</th>\n",
       "      <th>Balls_Bumrah</th>\n",
       "      <th>Runs_Bumrah</th>\n",
       "      <th>Wkts_Bumrah</th>\n",
       "      <th>Ave_Bumrah</th>\n",
       "      <th>Econ_Bumrah</th>\n",
       "      <th>SR_Bumrah</th>\n",
       "      <th>4w_Bumrah</th>\n",
       "      <th>...</th>\n",
       "      <th>Runs_Shami</th>\n",
       "      <th>Wkts_Shami</th>\n",
       "      <th>Ave_Shami</th>\n",
       "      <th>Econ_Shami</th>\n",
       "      <th>SR_Shami</th>\n",
       "      <th>4w_Shami</th>\n",
       "      <th>5w_Shami</th>\n",
       "      <th>10w_Shami</th>\n",
       "      <th>BBM_Wickets</th>\n",
       "      <th>BBM_Runs</th>\n",
       "    </tr>\n",
       "  </thead>\n",
       "  <tbody>\n",
       "    <tr>\n",
       "      <th>0</th>\n",
       "      <td>ODIs</td>\n",
       "      <td>89</td>\n",
       "      <td>88</td>\n",
       "      <td>4580</td>\n",
       "      <td>3509</td>\n",
       "      <td>149</td>\n",
       "      <td>23.55</td>\n",
       "      <td>4.59</td>\n",
       "      <td>30.7</td>\n",
       "      <td>6</td>\n",
       "      <td>...</td>\n",
       "      <td>4618</td>\n",
       "      <td>195</td>\n",
       "      <td>23.68</td>\n",
       "      <td>5.55</td>\n",
       "      <td>25.5</td>\n",
       "      <td>10</td>\n",
       "      <td>5</td>\n",
       "      <td>0</td>\n",
       "      <td>7</td>\n",
       "      <td>57</td>\n",
       "    </tr>\n",
       "    <tr>\n",
       "      <th>1</th>\n",
       "      <td>T20Is</td>\n",
       "      <td>70</td>\n",
       "      <td>69</td>\n",
       "      <td>1509</td>\n",
       "      <td>1579</td>\n",
       "      <td>89</td>\n",
       "      <td>17.74</td>\n",
       "      <td>6.27</td>\n",
       "      <td>16.9</td>\n",
       "      <td>0</td>\n",
       "      <td>...</td>\n",
       "      <td>761</td>\n",
       "      <td>27</td>\n",
       "      <td>28.18</td>\n",
       "      <td>8.95</td>\n",
       "      <td>18.8</td>\n",
       "      <td>0</td>\n",
       "      <td>0</td>\n",
       "      <td>0</td>\n",
       "      <td>3</td>\n",
       "      <td>15</td>\n",
       "    </tr>\n",
       "  </tbody>\n",
       "</table>\n",
       "<p>2 rows × 27 columns</p>\n",
       "</div>"
      ],
      "text/plain": [
       "  Format Mat_Bumrah Inns_Bumrah Balls_Bumrah Runs_Bumrah Wkts_Bumrah  \\\n",
       "0   ODIs         89          88         4580        3509         149   \n",
       "1  T20Is         70          69         1509        1579          89   \n",
       "\n",
       "  Ave_Bumrah Econ_Bumrah SR_Bumrah 4w_Bumrah  ... Runs_Shami Wkts_Shami  \\\n",
       "0      23.55        4.59      30.7         6  ...       4618        195   \n",
       "1      17.74        6.27      16.9         0  ...        761         27   \n",
       "\n",
       "   Ave_Shami  Econ_Shami SR_Shami 4w_Shami 5w_Shami 10w_Shami BBM_Wickets  \\\n",
       "0      23.68        5.55     25.5       10        5         0           7   \n",
       "1      28.18        8.95     18.8        0        0         0           3   \n",
       "\n",
       "  BBM_Runs  \n",
       "0       57  \n",
       "1       15  \n",
       "\n",
       "[2 rows x 27 columns]"
      ]
     },
     "execution_count": 391,
     "metadata": {},
     "output_type": "execute_result"
    }
   ],
   "source": [
    "merged_df.head()"
   ]
  },
  {
   "cell_type": "code",
   "execution_count": 371,
   "id": "edd07c7b-bed1-49a9-b7cd-18247a8a9919",
   "metadata": {},
   "outputs": [
    {
     "name": "stderr",
     "output_type": "stream",
     "text": [
      "C:\\Users\\chara\\AppData\\Local\\Temp\\ipykernel_16192\\4139865043.py:1: FutureWarning: errors='ignore' is deprecated and will raise in a future version. Use to_numeric without passing `errors` and catch exceptions explicitly instead\n",
      "  merged_df = merged_df.apply(pd.to_numeric, errors='ignore')\n"
     ]
    }
   ],
   "source": [
    "merged_df = merged_df.apply(pd.to_numeric, errors='ignore')"
   ]
  },
  {
   "cell_type": "code",
   "execution_count": 381,
   "id": "21e39d31-ead1-4543-a999-2c4ccf59e4b2",
   "metadata": {},
   "outputs": [
    {
     "name": "stdout",
     "output_type": "stream",
     "text": [
      "<class 'pandas.core.frame.DataFrame'>\n",
      "Index: 2 entries, ODIs to T20Is\n",
      "Data columns (total 28 columns):\n",
      " #   Column        Non-Null Count  Dtype  \n",
      "---  ------        --------------  -----  \n",
      " 0   Mat_Bumrah    2 non-null      int64  \n",
      " 1   Inns_Bumrah   2 non-null      int64  \n",
      " 2   Balls_Bumrah  2 non-null      int64  \n",
      " 3   Runs_Bumrah   2 non-null      int64  \n",
      " 4   Wkts_Bumrah   2 non-null      int64  \n",
      " 5   Ave_Bumrah    2 non-null      float64\n",
      " 6   Econ_Bumrah   2 non-null      float64\n",
      " 7   SR_Bumrah     2 non-null      float64\n",
      " 8   4w_Bumrah     2 non-null      int64  \n",
      " 9   5w_Bumrah     2 non-null      int64  \n",
      " 10  10w_Bumrah    2 non-null      int64  \n",
      " 11  BBI_Wickets   2 non-null      int64  \n",
      " 12  BBI_Runs      2 non-null      int64  \n",
      " 13  Mat_Shami     2 non-null      int64  \n",
      " 14  Inns_Shami    2 non-null      int64  \n",
      " 15  Balls_Shami   2 non-null      int64  \n",
      " 16  Runs_Shami    2 non-null      int64  \n",
      " 17  Wkts_Shami    2 non-null      int64  \n",
      " 18  Ave_Shami     2 non-null      float64\n",
      " 19  Econ_Shami    2 non-null      float64\n",
      " 20  SR_Shami      2 non-null      float64\n",
      " 21  4w_Shami      2 non-null      int64  \n",
      " 22  5w_Shami      2 non-null      int64  \n",
      " 23  10w_Shami     2 non-null      int64  \n",
      " 24  BBM_Wickets   2 non-null      int64  \n",
      " 25  BBM_Runs      2 non-null      int64  \n",
      " 26  WPM_Bumrah    2 non-null      float64\n",
      " 27  WPM_Shami     2 non-null      float64\n",
      "dtypes: float64(8), int64(20)\n",
      "memory usage: 464.0+ bytes\n"
     ]
    }
   ],
   "source": [
    "merged_df.info()"
   ]
  },
  {
   "cell_type": "code",
   "execution_count": 375,
   "id": "08bcb905-231a-4536-89bc-431c3940b93e",
   "metadata": {},
   "outputs": [],
   "source": [
    "merged_df['WPM_Bumrah'] = merged_df['Wkts_Bumrah'] / merged_df['Mat_Bumrah']\n",
    "merged_df['WPM_Shami'] = merged_df['Wkts_Shami'] / merged_df['Mat_Shami']"
   ]
  },
  {
   "cell_type": "code",
   "execution_count": 387,
   "id": "7375948e-a4a0-4bf8-b55d-5b092bb977d6",
   "metadata": {},
   "outputs": [],
   "source": [
    "merged_df = pd.merge(bumrah_overall_stats, shami_overall_stats, on='Format', suffixes=('_Bumrah', '_Shami'))"
   ]
  },
  {
   "cell_type": "code",
   "execution_count": 436,
   "id": "bb7e4d88-e515-4266-8aca-04377e34a9c4",
   "metadata": {},
   "outputs": [
    {
     "data": {
      "text/html": [
       "<div>\n",
       "<style scoped>\n",
       "    .dataframe tbody tr th:only-of-type {\n",
       "        vertical-align: middle;\n",
       "    }\n",
       "\n",
       "    .dataframe tbody tr th {\n",
       "        vertical-align: top;\n",
       "    }\n",
       "\n",
       "    .dataframe thead th {\n",
       "        text-align: right;\n",
       "    }\n",
       "</style>\n",
       "<table border=\"1\" class=\"dataframe\">\n",
       "  <thead>\n",
       "    <tr style=\"text-align: right;\">\n",
       "      <th></th>\n",
       "      <th>Format</th>\n",
       "      <th>Mat_Bumrah</th>\n",
       "      <th>Inns_Bumrah</th>\n",
       "      <th>Balls_Bumrah</th>\n",
       "      <th>Runs_Bumrah</th>\n",
       "      <th>Wkts_Bumrah</th>\n",
       "      <th>Ave_Bumrah</th>\n",
       "      <th>Econ_Bumrah</th>\n",
       "      <th>SR_Bumrah</th>\n",
       "      <th>4w_Bumrah</th>\n",
       "      <th>...</th>\n",
       "      <th>Runs_Shami</th>\n",
       "      <th>Wkts_Shami</th>\n",
       "      <th>Ave_Shami</th>\n",
       "      <th>Econ_Shami</th>\n",
       "      <th>SR_Shami</th>\n",
       "      <th>4w_Shami</th>\n",
       "      <th>5w_Shami</th>\n",
       "      <th>10w_Shami</th>\n",
       "      <th>BBM_Wickets</th>\n",
       "      <th>BBM_Runs</th>\n",
       "    </tr>\n",
       "  </thead>\n",
       "  <tbody>\n",
       "    <tr>\n",
       "      <th>0</th>\n",
       "      <td>ODIs</td>\n",
       "      <td>89</td>\n",
       "      <td>88</td>\n",
       "      <td>4580</td>\n",
       "      <td>3509</td>\n",
       "      <td>149</td>\n",
       "      <td>23.55</td>\n",
       "      <td>4.59</td>\n",
       "      <td>30.7</td>\n",
       "      <td>6</td>\n",
       "      <td>...</td>\n",
       "      <td>4618</td>\n",
       "      <td>195</td>\n",
       "      <td>23.68</td>\n",
       "      <td>5.55</td>\n",
       "      <td>25.5</td>\n",
       "      <td>10</td>\n",
       "      <td>5</td>\n",
       "      <td>0</td>\n",
       "      <td>7</td>\n",
       "      <td>57</td>\n",
       "    </tr>\n",
       "    <tr>\n",
       "      <th>1</th>\n",
       "      <td>T20Is</td>\n",
       "      <td>70</td>\n",
       "      <td>69</td>\n",
       "      <td>1509</td>\n",
       "      <td>1579</td>\n",
       "      <td>89</td>\n",
       "      <td>17.74</td>\n",
       "      <td>6.27</td>\n",
       "      <td>16.9</td>\n",
       "      <td>0</td>\n",
       "      <td>...</td>\n",
       "      <td>761</td>\n",
       "      <td>27</td>\n",
       "      <td>28.18</td>\n",
       "      <td>8.95</td>\n",
       "      <td>18.8</td>\n",
       "      <td>0</td>\n",
       "      <td>0</td>\n",
       "      <td>0</td>\n",
       "      <td>3</td>\n",
       "      <td>15</td>\n",
       "    </tr>\n",
       "  </tbody>\n",
       "</table>\n",
       "<p>2 rows × 27 columns</p>\n",
       "</div>"
      ],
      "text/plain": [
       "  Format Mat_Bumrah Inns_Bumrah Balls_Bumrah Runs_Bumrah Wkts_Bumrah  \\\n",
       "0   ODIs         89          88         4580        3509         149   \n",
       "1  T20Is         70          69         1509        1579          89   \n",
       "\n",
       "  Ave_Bumrah Econ_Bumrah SR_Bumrah 4w_Bumrah  ... Runs_Shami Wkts_Shami  \\\n",
       "0      23.55        4.59      30.7         6  ...       4618        195   \n",
       "1      17.74        6.27      16.9         0  ...        761         27   \n",
       "\n",
       "   Ave_Shami  Econ_Shami SR_Shami 4w_Shami 5w_Shami 10w_Shami BBM_Wickets  \\\n",
       "0      23.68        5.55     25.5       10        5         0           7   \n",
       "1      28.18        8.95     18.8        0        0         0           3   \n",
       "\n",
       "  BBM_Runs  \n",
       "0       57  \n",
       "1       15  \n",
       "\n",
       "[2 rows x 27 columns]"
      ]
     },
     "execution_count": 436,
     "metadata": {},
     "output_type": "execute_result"
    }
   ],
   "source": [
    "merged_df"
   ]
  },
  {
   "cell_type": "code",
   "execution_count": 3,
   "id": "da070582-b98b-4a39-8b9d-9ee72970ac86",
   "metadata": {},
   "outputs": [],
   "source": [
    "bumrah_aust_url = \"https://www.espncricinfo.com/cricketers/jasprit-bumrah-625383/bowling-batting-stats\"\n",
    "shami_aust_url = \"https://www.espncricinfo.com/cricketers/mohammed-shami-481896/bowling-batting-stats\""
   ]
  },
  {
   "cell_type": "code",
   "execution_count": 141,
   "id": "2fa5f3e6-fe04-4bc3-a448-8a1e9aabcf47",
   "metadata": {},
   "outputs": [],
   "source": [
    "def scrape_australian_bowling_stats(player_url):\n",
    "    headers = {'User-Agent': 'Mozilla/5.0'}\n",
    "    response = requests.get(player_url, headers=headers)\n",
    "    \n",
    "    if response.status_code != 200:\n",
    "        print(f\"Failed to fetch data for {burmah_url}\")\n",
    "    \n",
    "    soup = BeautifulSoup(response.content, \"html.parser\")\n",
    "    \n",
    "    table = soup.find_all('table')[2]\n",
    "    \n",
    "    headers = [th.text.strip() for th in table.find_all(\"th\")]\n",
    "    \n",
    "    data = []\n",
    "    for row in table.find_all(\"tr\")[1:]:\n",
    "        cols = row.find_all(\"td\")\n",
    "        data.append([col.text.strip() for col in cols])\n",
    "        if \"Australia\" in cols:\n",
    "            data.append(cols)\n",
    "    \n",
    "    df = pd.DataFrame(data, columns=headers)\n",
    "    df = df[df[''] == 'in Australia']\n",
    "    return df"
   ]
  },
  {
   "cell_type": "code",
   "execution_count": 428,
   "id": "c37be6d7-8974-411d-a557-924bfaedbeed",
   "metadata": {},
   "outputs": [],
   "source": [
    "bumrah_aust_stats = scrape_australian_bowling_stats(bumrah_aust_url)\n",
    "shami_aust_stats =  scrape_australian_bowling_stats(shami_aust_url)"
   ]
  },
  {
   "cell_type": "code",
   "execution_count": 430,
   "id": "27b62738-d832-4a2d-a9b1-dd0fefc44b5f",
   "metadata": {
    "scrolled": true
   },
   "outputs": [
    {
     "name": "stderr",
     "output_type": "stream",
     "text": [
      "C:\\Users\\chara\\AppData\\Local\\Temp\\ipykernel_16192\\1990228478.py:1: FutureWarning: errors='ignore' is deprecated and will raise in a future version. Use to_numeric without passing `errors` and catch exceptions explicitly instead\n",
      "  bumrah_aust_stats = bumrah_aust_stats.apply(pd.to_numeric, errors='ignore')\n",
      "C:\\Users\\chara\\AppData\\Local\\Temp\\ipykernel_16192\\1990228478.py:2: FutureWarning: errors='ignore' is deprecated and will raise in a future version. Use to_numeric without passing `errors` and catch exceptions explicitly instead\n",
      "  shami_aust_stats = shami_aust_stats.apply(pd.to_numeric, errors='ignore')\n"
     ]
    }
   ],
   "source": [
    "bumrah_aust_stats = bumrah_aust_stats.apply(pd.to_numeric, errors='ignore')\n",
    "shami_aust_stats = shami_aust_stats.apply(pd.to_numeric, errors='ignore')"
   ]
  },
  {
   "cell_type": "code",
   "execution_count": 432,
   "id": "42941563-5419-4c50-98e1-6a448f0f0625",
   "metadata": {},
   "outputs": [],
   "source": [
    "bumrah_aust_stats.drop('',axis=1, inplace=True)\n",
    "\n",
    "bumrah_aust_stats.drop('Span', axis=1, inplace=True)\n",
    "\n",
    "shami_aust_stats.drop('',axis=1, inplace=True)\n",
    "\n",
    "shami_aust_stats.drop('Span', axis=1, inplace=True)"
   ]
  },
  {
   "cell_type": "code",
   "execution_count": null,
   "id": "95ef6112-24f4-4dcd-b2c3-a121fc739fca",
   "metadata": {},
   "outputs": [],
   "source": [
    "bumrah_aust_stats.set_index()"
   ]
  },
  {
   "cell_type": "code",
   "execution_count": 434,
   "id": "81b8d52a-502a-4ccd-90db-b035f66d7338",
   "metadata": {},
   "outputs": [],
   "source": [
    "bumrah_aust_stats['WPM'] = bumrah_aust_stats['Wkts'] / bumrah_aust_stats['Mat']\n",
    "shami_aust_stats['WPM'] = shami_aust_stats['Wkts'] / shami_aust_stats['Mat']"
   ]
  },
  {
   "cell_type": "code",
   "execution_count": 440,
   "id": "f16c419f-8ab9-41a8-b84a-cfc20f8773af",
   "metadata": {},
   "outputs": [
    {
     "data": {
      "image/png": "[encoded data removed]",
      "text/plain": [
       "<Figure size 1000x600 with 1 Axes>"
      ]
     },
     "metadata": {},
     "output_type": "display_data"
    }
   ],
   "source": [
    "fig, ax = plt.subplots(figsize=(10,6))\n",
    "\n",
    "ax.bar(merged_df.index, merged_df['Econ_Bumrah'], label='Bumrah Econ (Overall)', alpha=0.7, width=0.4, align='center')\n",
    "ax.bar(merged_df.index, merged_df['Econ_Shami'], label='Shami Econ (Overall)', alpha=0.7, width=0.4, align='edge')\n",
    "\n",
    "ax.bar(bumrah_aust_stats.index, bumrah_aust_stats['Econ'], label='Bumrah Econ (Australia)')\n",
    "ax.bar(shami_aust_stats.index, shami_aust_stats['Econ'], label='Shami Econ (Australia)')\n",
    "\n",
    "ax.set_xlabel('Format')\n",
    "ax.set_ylabel('Economy Rate')\n",
    "ax.set_title('Economy Rate Comparison: Bumrah vs Shami (Overall vs Australia)')\n",
    "ax.legend()\n",
    "\n",
    "plt.show()"
   ]
  },
  {
   "cell_type": "code",
   "execution_count": 448,
   "id": "0ab0bd9f-9ef4-4f9b-ab19-31fcc33b6c30",
   "metadata": {},
   "outputs": [
    {
     "data": {
      "image/png": "[encoded data removed]",
      "text/plain": [
       "<Figure size 1000x500 with 1 Axes>"
      ]
     },
     "metadata": {},
     "output_type": "display_data"
    }
   ],
   "source": [
    "plt.figure(figsize=(10, 5))\n",
    "sns.barplot(x='Format', y='Wkts_Bumrah', data=merged_df, color='blue', label='Bumrah Wickets', alpha=0.7)\n",
    "sns.barplot(x='Format', y='Wkts_Shami', data=merged_df, color='orange', label='Shami Wickets', alpha=0.7)\n",
    "plt.title('Wickets Comparsion: Bumrah vs Shami')\n",
    "plt.xlabel('Match Type and Location')\n",
    "plt.ylabel('Wickets Taken')\n",
    "plt.legend()\n",
    "plt.show()"
   ]
  },
  {
   "cell_type": "markdown",
   "id": "b8b320a0-0358-473e-ba11-4c6e585c6dfa",
   "metadata": {},
   "source": [
    "### Conclusion: \n",
    "Jasprit Bumrah is the better choice for the Australian series due to his superior bowling stats both overall and in Australia. His ability to bowl with consistency and control makes him invaluable asset to the team."
   ]
  }
 ],
 "metadata": {
  "kernelspec": {
   "display_name": "Python 3 (ipykernel)",
   "language": "python",
   "name": "python3"
  },
  "language_info": {
   "codemirror_mode": {
    "name": "ipython",
    "version": 3
   },
   "file_extension": ".py",
   "mimetype": "text/x-python",
   "name": "python",
   "nbconvert_exporter": "python",
   "pygments_lexer": "ipython3",
   "version": "3.12.7"
  }
 },
 "nbformat": 4,
 "nbformat_minor": 5
}
